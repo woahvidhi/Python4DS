{
  "nbformat": 4,
  "nbformat_minor": 0,
  "metadata": {
    "kernelspec": {
      "display_name": "Python 3",
      "language": "python",
      "name": "python3"
    },
    "language_info": {
      "codemirror_mode": {
        "name": "ipython",
        "version": 3
      },
      "file_extension": ".py",
      "mimetype": "text/x-python",
      "name": "python",
      "nbconvert_exporter": "python",
      "pygments_lexer": "ipython3",
      "version": "3.7.1"
    },
    "colab": {
      "name": "Assignment1 Numpy.ipynb",
      "provenance": []
    }
  },
  "cells": [
    {
      "cell_type": "markdown",
      "metadata": {
        "id": "QOAlTmb5PCaC",
        "colab_type": "text"
      },
      "source": [
        "# Assignment"
      ]
    },
    {
      "cell_type": "code",
      "metadata": {
        "id": "0JzGWBaIgdPh",
        "colab_type": "code",
        "colab": {}
      },
      "source": [
        ""
      ],
      "execution_count": null,
      "outputs": []
    },
    {
      "cell_type": "markdown",
      "metadata": {
        "id": "5VyMckd3PCaE",
        "colab_type": "text"
      },
      "source": [
        "Import numpy as np"
      ]
    },
    {
      "cell_type": "code",
      "metadata": {
        "id": "D2CAdwUtPCaF",
        "colab_type": "code",
        "colab": {}
      },
      "source": [
        "import numpy as np"
      ],
      "execution_count": 1,
      "outputs": []
    },
    {
      "cell_type": "markdown",
      "metadata": {
        "id": "V8HeABq-PCaR",
        "colab_type": "text"
      },
      "source": [
        "Make a python list => \\[1,2,3,4,5\\]\n",
        "\n",
        "Convert it into numpy array and print it"
      ]
    },
    {
      "cell_type": "code",
      "metadata": {
        "id": "Zvf2h2jEPCaR",
        "colab_type": "code",
        "colab": {
          "base_uri": "https://localhost:8080/",
          "height": 33
        },
        "outputId": "6f753714-f538-4d98-8bee-1fae70dd8397"
      },
      "source": [
        "list1 = [1,2,3,4,5]\n",
        "arr1 = np.array(list1)\n",
        "print(arr)"
      ],
      "execution_count": 4,
      "outputs": [
        {
          "output_type": "stream",
          "text": [
            "[1 2 3 4 5]\n"
          ],
          "name": "stdout"
        }
      ]
    },
    {
      "cell_type": "markdown",
      "metadata": {
        "id": "knkg0SojPCaW",
        "colab_type": "text"
      },
      "source": [
        "Make a python matrix (3 x 3) => \\[[1,2,3],[4,5,6],[7,8,9]\\]\n",
        "\n",
        "Convert it into numpy array and print it"
      ]
    },
    {
      "cell_type": "code",
      "metadata": {
        "id": "ml3dTCj5PCaX",
        "colab_type": "code",
        "colab": {
          "base_uri": "https://localhost:8080/",
          "height": 67
        },
        "outputId": "ca8550e1-2c44-4aae-e189-4a3fb171bf1a"
      },
      "source": [
        "list2 = [[1,2,3],[4,5,6],[7,8,9]]\n",
        "arr2 = np.array(list2)\n",
        "print(arr2)"
      ],
      "execution_count": 10,
      "outputs": [
        {
          "output_type": "stream",
          "text": [
            "[[1 2 3]\n",
            " [4 5 6]\n",
            " [7 8 9]]\n"
          ],
          "name": "stdout"
        }
      ]
    },
    {
      "cell_type": "markdown",
      "metadata": {
        "id": "cyO8gL8dPCab",
        "colab_type": "text"
      },
      "source": [
        "Make a matrix (3 x 3) using built-in methods (like arange(), reshape() etc.):\n",
        "\n",
        "\\[ [1,3,5],\n",
        "\n",
        " [7,9,11],\n",
        " \n",
        " [13,15,17] \\]"
      ]
    },
    {
      "cell_type": "code",
      "metadata": {
        "id": "hXanMpCUPCab",
        "colab_type": "code",
        "colab": {
          "base_uri": "https://localhost:8080/",
          "height": 67
        },
        "outputId": "91319d32-986c-40d6-c566-d609634569df"
      },
      "source": [
        "list3 = [[1,3,5],[7,9,11],[13,15,17]]\n",
        "arr3 = np.array(list3)\n",
        "m1 = np.reshape(arr3,(3,3))\n",
        "print(m1)"
      ],
      "execution_count": 11,
      "outputs": [
        {
          "output_type": "stream",
          "text": [
            "[[ 1  3  5]\n",
            " [ 7  9 11]\n",
            " [13 15 17]]\n"
          ],
          "name": "stdout"
        }
      ]
    },
    {
      "cell_type": "markdown",
      "metadata": {
        "id": "p2aFb3qqPCag",
        "colab_type": "text"
      },
      "source": [
        "Create a numpy array with 10 random numbers from 0 to 10 (there should be few numbers greater than 1)"
      ]
    },
    {
      "cell_type": "code",
      "metadata": {
        "id": "SC8SYHe3PCai",
        "colab_type": "code",
        "colab": {
          "base_uri": "https://localhost:8080/",
          "height": 33
        },
        "outputId": "c8fb73b9-cfc5-4767-d468-790668dc4785"
      },
      "source": [
        "arr4 = np.random.randint(0,10,size=10)\n",
        "print(arr4)"
      ],
      "execution_count": 24,
      "outputs": [
        {
          "output_type": "stream",
          "text": [
            "[9 2 7 7 0 2 3 1 1 5]\n"
          ],
          "name": "stdout"
        }
      ]
    },
    {
      "cell_type": "markdown",
      "metadata": {
        "id": "glRxvRrWPCam",
        "colab_type": "text"
      },
      "source": [
        "Create numpy array => \\[1,2,3,4,5\\] and convert it to 2D array with 5 rows"
      ]
    },
    {
      "cell_type": "code",
      "metadata": {
        "id": "i16KHztIPCan",
        "colab_type": "code",
        "colab": {
          "base_uri": "https://localhost:8080/",
          "height": 117
        },
        "outputId": "517b148a-9b8f-4d9d-ef87-5b0884272092"
      },
      "source": [
        "arr5=np.array([1,2,3,4,5])\n",
        "arr2d=np.reshape(arr5,(5,-1))\n",
        "print(arr2d)"
      ],
      "execution_count": 35,
      "outputs": [
        {
          "output_type": "stream",
          "text": [
            "[[1]\n",
            " [2]\n",
            " [3]\n",
            " [4]\n",
            " [5]]\n",
            "(5, 1)\n"
          ],
          "name": "stdout"
        }
      ]
    },
    {
      "cell_type": "markdown",
      "metadata": {
        "id": "wgqbB85XPCat",
        "colab_type": "text"
      },
      "source": [
        "Print the shape of the above created array"
      ]
    },
    {
      "cell_type": "code",
      "metadata": {
        "id": "7zOMmMIlPCat",
        "colab_type": "code",
        "colab": {
          "base_uri": "https://localhost:8080/",
          "height": 33
        },
        "outputId": "beb8bdbd-33c3-401e-b76b-7dfa83732d35"
      },
      "source": [
        "print(arr2d.shape)"
      ],
      "execution_count": 36,
      "outputs": [
        {
          "output_type": "stream",
          "text": [
            "(5, 1)\n"
          ],
          "name": "stdout"
        }
      ]
    },
    {
      "cell_type": "markdown",
      "metadata": {
        "id": "lMEy-JXCPCax",
        "colab_type": "text"
      },
      "source": [
        "Create a numpy array with 10 elements in it. Access and print its 3rd, 4th and 9th element."
      ]
    },
    {
      "cell_type": "code",
      "metadata": {
        "id": "HryJD-H9PCax",
        "colab_type": "code",
        "colab": {
          "base_uri": "https://localhost:8080/",
          "height": 33
        },
        "outputId": "82be0692-4131-4263-c442-249291d5cfce"
      },
      "source": [
        "arr6 = np.array([1,2,3,4,5,6,7,8,9,0])\n",
        "print(arr6[3],arr6[4],arr6[9])"
      ],
      "execution_count": 44,
      "outputs": [
        {
          "output_type": "stream",
          "text": [
            "4 5 0\n"
          ],
          "name": "stdout"
        }
      ]
    },
    {
      "cell_type": "markdown",
      "metadata": {
        "id": "qZA9lYQcPCa1",
        "colab_type": "text"
      },
      "source": [
        "Print alternate elements of that array"
      ]
    },
    {
      "cell_type": "code",
      "metadata": {
        "id": "id02eMH3PCa2",
        "colab_type": "code",
        "colab": {
          "base_uri": "https://localhost:8080/",
          "height": 100
        },
        "outputId": "fd3a3285-433c-428f-83e3-868ad61299d0"
      },
      "source": [
        "for i in range(0,arr6.size,2):\n",
        "  print(arr6[i])"
      ],
      "execution_count": 45,
      "outputs": [
        {
          "output_type": "stream",
          "text": [
            "1\n",
            "3\n",
            "5\n",
            "7\n",
            "9\n"
          ],
          "name": "stdout"
        }
      ]
    },
    {
      "cell_type": "markdown",
      "metadata": {
        "id": "DKX1edEkPCa5",
        "colab_type": "text"
      },
      "source": [
        "Change last 3 elements into 100 using broadcasting and print"
      ]
    },
    {
      "cell_type": "code",
      "metadata": {
        "id": "CF2SyWs8PCa6",
        "colab_type": "code",
        "colab": {
          "base_uri": "https://localhost:8080/",
          "height": 33
        },
        "outputId": "d8bc0f57-8c84-46da-c12f-ef2286604c0b"
      },
      "source": [
        " arr6[-3:]=100\n",
        " print(arr6)"
      ],
      "execution_count": 52,
      "outputs": [
        {
          "output_type": "stream",
          "text": [
            "[  1   2   3   4   5   6   7 100 100 100]\n"
          ],
          "name": "stdout"
        }
      ]
    },
    {
      "cell_type": "markdown",
      "metadata": {
        "id": "HCALoj5-PCbA",
        "colab_type": "text"
      },
      "source": [
        "Create a 5 x 5 matrix (fill it with any element you like), print it.\n",
        "\n",
        "Then print the middle (3 x 3) matrix."
      ]
    },
    {
      "cell_type": "code",
      "metadata": {
        "id": "bMhEvR2lPCbA",
        "colab_type": "code",
        "colab": {
          "base_uri": "https://localhost:8080/",
          "height": 150
        },
        "outputId": "a206f977-dffa-42d3-abae-0cc24783906d"
      },
      "source": [
        "arr7=np.array([[1,2,3,4,5],[6,7,8,9,10],[11,12,13,14,15,],[16,17,18,19,20],[21,22,23,24,25]])\n",
        "m2=np.reshape(arr7,(5,5))\n",
        "m3=m2[1:4,1:4]\n",
        "print(m3)\n",
        "\n"
      ],
      "execution_count": 50,
      "outputs": [
        {
          "output_type": "stream",
          "text": [
            "[[ 1  2  3  4  5]\n",
            " [ 6  7  8  9 10]\n",
            " [11 12 13 14 15]\n",
            " [16 17 18 19 20]\n",
            " [21 22 23 24 25]]\n",
            "[[ 7  8  9]\n",
            " [12 13 14]\n",
            " [17 18 19]]\n"
          ],
          "name": "stdout"
        }
      ]
    }
  ]
}